{
 "cells": [
  {
   "cell_type": "markdown",
   "metadata": {},
   "source": [
    "# Zadanie 2"
   ]
  },
  {
   "cell_type": "markdown",
   "metadata": {},
   "source": [
    "### Na podstawie przykładów dostępnych w tutorialu, przeprowadzić wizualizację zbioru danych \"abalone\"\n",
    "-metodami: PCA, Kernel PCA, MDS, Isomap, oraz LLE"
   ]
  },
  {
   "cell_type": "markdown",
   "metadata": {},
   "source": [
    "### Zbadać działanie metod za pomocą metryki neighbours-hit"
   ]
  },
  {
   "cell_type": "markdown",
   "metadata": {},
   "source": [
    "### Do tego zbioru zostały dodane wygenerowane losowo wymiary\n",
    "-należy spróbować odfilrować część wymiarów, i dzięki wizualizacji zaobserwować, które z wymiarów mogły znajdować się w oryginalnym zbiorze"
   ]
  },
  {
   "cell_type": "markdown",
   "metadata": {},
   "source": [
    "[Atrybut 1 jest atrybutem definiującym klasy]"
   ]
  },
  {
   "cell_type": "markdown",
   "metadata": {},
   "source": [
    "[Opis: abalone.names]"
   ]
  },
  {
   "cell_type": "code",
   "execution_count": null,
   "metadata": {},
   "outputs": [],
   "source": []
  }
 ],
 "metadata": {
  "kernelspec": {
   "display_name": "Python 3",
   "language": "python",
   "name": "python3"
  },
  "language_info": {
   "codemirror_mode": {
    "name": "ipython",
    "version": 3
   },
   "file_extension": ".py",
   "mimetype": "text/x-python",
   "name": "python",
   "nbconvert_exporter": "python",
   "pygments_lexer": "ipython3",
   "version": "3.6.7"
  }
 },
 "nbformat": 4,
 "nbformat_minor": 2
}
